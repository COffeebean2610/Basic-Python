{
 "cells": [
  {
   "cell_type": "code",
   "execution_count": 16,
   "id": "14faea42",
   "metadata": {},
   "outputs": [
    {
     "name": "stdout",
     "output_type": "stream",
     "text": [
      "11.4\n"
     ]
    }
   ],
   "source": [
    "a=5.2\n",
    "b=6.2\n",
    "c=a+b\n",
    "print(c)"
   ]
  },
  {
   "cell_type": "code",
   "execution_count": 17,
   "id": "bf05d1ff",
   "metadata": {},
   "outputs": [
    {
     "name": "stdout",
     "output_type": "stream",
     "text": [
      "674438\n"
     ]
    }
   ],
   "source": [
    "a=5586\n",
    "b=668852\n",
    "c=a+b\n",
    "print(c)"
   ]
  },
  {
   "cell_type": "code",
   "execution_count": 18,
   "id": "63590b70",
   "metadata": {},
   "outputs": [
    {
     "name": "stdout",
     "output_type": "stream",
     "text": [
      "67.2\n"
     ]
    }
   ],
   "source": [
    "a=5.2\n",
    "b=62\n",
    "c=a+b\n",
    "print(c)"
   ]
  },
  {
   "cell_type": "code",
   "execution_count": 19,
   "id": "b501e2c9",
   "metadata": {},
   "outputs": [
    {
     "name": "stdout",
     "output_type": "stream",
     "text": [
      "518.2\n"
     ]
    }
   ],
   "source": [
    "a=512\n",
    "b=6.2\n",
    "c=int(a)+float(b)\n",
    "print(c)"
   ]
  },
  {
   "cell_type": "code",
   "execution_count": 20,
   "id": "c7135952",
   "metadata": {},
   "outputs": [
    {
     "name": "stdout",
     "output_type": "stream",
     "text": [
      "multiplication is: 3236.4\n"
     ]
    }
   ],
   "source": [
    "a=522\n",
    "b=6.2\n",
    "c=int(a)*float(b)\n",
    "print(\"multiplication is:\",c)"
   ]
  },
  {
   "cell_type": "code",
   "execution_count": 21,
   "id": "68b7f32c",
   "metadata": {},
   "outputs": [
    {
     "name": "stdout",
     "output_type": "stream",
     "text": [
      "322.40000000000003\n"
     ]
    }
   ],
   "source": [
    "a=52\n",
    "b=6.2\n",
    "c=a*b\n",
    "print(c)"
   ]
  },
  {
   "cell_type": "code",
   "execution_count": 22,
   "id": "497f6497",
   "metadata": {},
   "outputs": [
    {
     "name": "stdout",
     "output_type": "stream",
     "text": [
      "quotient is: 89.6774193548387\n"
     ]
    }
   ],
   "source": [
    "a=556\n",
    "b=6.2\n",
    "c=a/b\n",
    "print(\"quotient is:\",c)"
   ]
  },
  {
   "cell_type": "code",
   "execution_count": 23,
   "id": "f77c5ff7",
   "metadata": {},
   "outputs": [
    {
     "name": "stdout",
     "output_type": "stream",
     "text": [
      "addition is: 844\n"
     ]
    }
   ],
   "source": [
    "a=62\n",
    "b=782\n",
    "c=a+b\n",
    "print('addition is:',c)"
   ]
  },
  {
   "cell_type": "code",
   "execution_count": 24,
   "id": "7d7b91a1",
   "metadata": {},
   "outputs": [
    {
     "name": "stdout",
     "output_type": "stream",
     "text": [
      "25\n"
     ]
    }
   ],
   "source": [
    "a=10\n",
    "b=15\n",
    "c=a+b \n",
    "print(c)"
   ]
  },
  {
   "cell_type": "code",
   "execution_count": 25,
   "id": "ca242754",
   "metadata": {},
   "outputs": [
    {
     "name": "stdout",
     "output_type": "stream",
     "text": [
      "150\n"
     ]
    }
   ],
   "source": [
    "a=10\n",
    "b=15\n",
    "c=a*b \n",
    "print(c)"
   ]
  },
  {
   "cell_type": "code",
   "execution_count": 26,
   "id": "c4232b8f",
   "metadata": {},
   "outputs": [
    {
     "name": "stdout",
     "output_type": "stream",
     "text": [
      "26.3\n"
     ]
    }
   ],
   "source": [
    "a=10.5\n",
    "b=15.8\n",
    "c=a+b \n",
    "print(c)"
   ]
  },
  {
   "cell_type": "code",
   "execution_count": 27,
   "id": "7608ad9f",
   "metadata": {},
   "outputs": [
    {
     "name": "stdout",
     "output_type": "stream",
     "text": [
      "165.9\n"
     ]
    }
   ],
   "source": [
    "a=10.5\n",
    "b=15.8\n",
    "c=a*b \n",
    "print(c)"
   ]
  },
  {
   "cell_type": "code",
   "execution_count": 28,
   "id": "bcaf4a99",
   "metadata": {},
   "outputs": [
    {
     "name": "stdout",
     "output_type": "stream",
     "text": [
      "enter value of a:656\n",
      "enter value of b:565\n",
      "1221\n"
     ]
    }
   ],
   "source": [
    "a=int(input(\"enter value of a:\"))\n",
    "b=int(input('enter value of b:'))\n",
    "c=a+b\n",
    "print(c)"
   ]
  },
  {
   "cell_type": "code",
   "execution_count": 29,
   "id": "cedfec4b",
   "metadata": {},
   "outputs": [
    {
     "name": "stdout",
     "output_type": "stream",
     "text": [
      "enter value of a:568\n",
      "enter value of b:56658\n",
      "57226\n"
     ]
    }
   ],
   "source": [
    "a=int(input(\"enter value of a:\"))\n",
    "b=int(input('enter value of b:'))\n",
    "c=int(a)+int(b)\n",
    "print(c)"
   ]
  },
  {
   "cell_type": "code",
   "execution_count": 30,
   "id": "e4a39046",
   "metadata": {},
   "outputs": [
    {
     "name": "stdout",
     "output_type": "stream",
     "text": [
      "enter value of a:5566\n",
      "enter value of b:556\n",
      "6122\n"
     ]
    }
   ],
   "source": [
    "a=input(\"enter value of a:\")\n",
    "b=input('enter value of b:')\n",
    "c=int(a)+int(b)\n",
    "print(c)"
   ]
  },
  {
   "cell_type": "code",
   "execution_count": 31,
   "id": "37d8623a",
   "metadata": {},
   "outputs": [
    {
     "name": "stdout",
     "output_type": "stream",
     "text": [
      "enter value of a:55454\n",
      "enter value of b:45454\n",
      "100908.0\n"
     ]
    }
   ],
   "source": [
    "a=input('enter value of a:')\n",
    "b=input('enter value of b:')\n",
    "c=int(a)+float(b)\n",
    "print(c)"
   ]
  },
  {
   "cell_type": "code",
   "execution_count": 32,
   "id": "2fca1190",
   "metadata": {},
   "outputs": [
    {
     "name": "stdout",
     "output_type": "stream",
     "text": [
      "enter value of a:45845\n",
      "enter value of b:5454\n",
      "250038630.0\n"
     ]
    }
   ],
   "source": [
    "a=input('enter value of a:')\n",
    "b=input('enter value of b:')\n",
    "c=int(a)*float(b)\n",
    "print(c)"
   ]
  },
  {
   "cell_type": "code",
   "execution_count": 33,
   "id": "1079bdef",
   "metadata": {},
   "outputs": [
    {
     "name": "stdout",
     "output_type": "stream",
     "text": [
      "enter value of a:4455\n",
      "enter value of b:545\n",
      "2427975\n"
     ]
    }
   ],
   "source": [
    "a=int(input(\"enter value of a:\"))\n",
    "b=int(input('enter value of b:'))\n",
    "c=a*b\n",
    "print(c)"
   ]
  },
  {
   "cell_type": "code",
   "execution_count": 35,
   "id": "861e4ac1",
   "metadata": {},
   "outputs": [
    {
     "name": "stdout",
     "output_type": "stream",
     "text": [
      "enter value of a:6545\n",
      "enter value of b:5566\n",
      "12111\n"
     ]
    }
   ],
   "source": [
    "a=input('enter value of a:')\n",
    "b=input('enter value of b:')\n",
    "c=int(a)+int(b)\n",
    "print(c)"
   ]
  },
  {
   "cell_type": "code",
   "execution_count": 36,
   "id": "951733ba",
   "metadata": {},
   "outputs": [
    {
     "name": "stdout",
     "output_type": "stream",
     "text": [
      "enter length:565\n",
      "enter breadth:455\n",
      "area of triangle is: 128537.5\n"
     ]
    }
   ],
   "source": [
    "a=input('enter base:')\n",
    "b=input(\"enter height:\")\n",
    "area=0.5*int(a)*int(b)\n",
    "print('area of triangle is:',area)"
   ]
  },
  {
   "cell_type": "code",
   "execution_count": 37,
   "id": "27684fc4",
   "metadata": {},
   "outputs": [
    {
     "name": "stdout",
     "output_type": "stream",
     "text": [
      "enter base:45\n",
      "enter height:544\n",
      "area of triangle is: 12240.0\n"
     ]
    }
   ],
   "source": [
    "a=input('enter base:')\n",
    "b=input(\"enter height:\")\n",
    "area=0.5*int(a)*float(b)\n",
    "print('area of triangle is:',area)"
   ]
  },
  {
   "cell_type": "code",
   "execution_count": 38,
   "id": "5c0cde1d",
   "metadata": {},
   "outputs": [
    {
     "name": "stdout",
     "output_type": "stream",
     "text": [
      "enter base:45\n",
      "enter height:565\n",
      "area of triangle is: 12712.5\n"
     ]
    }
   ],
   "source": [
    "a=input('enter base:')\n",
    "b=input(\"enter height:\")\n",
    "area=0.5*int(a)*float(b)\n",
    "print('area of triangle is:',area)"
   ]
  },
  {
   "cell_type": "code",
   "execution_count": 39,
   "id": "598ca336",
   "metadata": {},
   "outputs": [
    {
     "name": "stdout",
     "output_type": "stream",
     "text": [
      "enter length:45\n",
      "enter breadth:58\n",
      "area of rectangle is: 2610.0\n"
     ]
    }
   ],
   "source": [
    "a=input('enter length:')\n",
    "b=input(\"enter breadth:\")\n",
    "area=int(a)*float(b)\n",
    "print('area of rectangle is:',area)"
   ]
  },
  {
   "cell_type": "code",
   "execution_count": 40,
   "id": "ab726b2b",
   "metadata": {},
   "outputs": [
    {
     "name": "stdout",
     "output_type": "stream",
     "text": [
      "enter length:14\n",
      "enter breadth:589\n",
      "area of rectangle is: 8246\n"
     ]
    }
   ],
   "source": [
    "a=input('enter length:')\n",
    "b=input(\"enter breadth:\")\n",
    "area=int(a)*int(b)\n",
    "print('area of rectangle is:',area)"
   ]
  },
  {
   "cell_type": "code",
   "execution_count": 41,
   "id": "3b85cbda",
   "metadata": {},
   "outputs": [
    {
     "name": "stdout",
     "output_type": "stream",
     "text": [
      "enter length:568\n",
      "enter breadth:898\n",
      "perimeter of rectangle is: 2932.0\n"
     ]
    }
   ],
   "source": [
    "a=input('enter length:')\n",
    "b=input(\"enter breadth:\")\n",
    "perimeter=2*int(a)+2*float(b)\n",
    "print('perimeter of rectangle is:',perimeter)"
   ]
  },
  {
   "cell_type": "code",
   "execution_count": 42,
   "id": "92597055",
   "metadata": {},
   "outputs": [
    {
     "name": "stdout",
     "output_type": "stream",
     "text": [
      "enter side:56\n",
      "area of square is: 3136\n"
     ]
    }
   ],
   "source": [
    "a=input('enter side:')\n",
    "area=int(a)*int(a)\n",
    "print('area of square is:',area)"
   ]
  },
  {
   "cell_type": "code",
   "execution_count": 43,
   "id": "7f7d60e3",
   "metadata": {},
   "outputs": [
    {
     "name": "stdout",
     "output_type": "stream",
     "text": [
      "enter side:56\n",
      "perimeter of square is: 224\n"
     ]
    }
   ],
   "source": [
    "a=input('enter side:')\n",
    "perimeter=4*int(a)\n",
    "print('perimeter of square is:',perimeter)"
   ]
  },
  {
   "cell_type": "code",
   "execution_count": 44,
   "id": "9bf0d37b",
   "metadata": {},
   "outputs": [
    {
     "name": "stdout",
     "output_type": "stream",
     "text": [
      "enter radius:564\n",
      "volume is: 751113722.88\n"
     ]
    }
   ],
   "source": [
    "r=int(input('enter radius:'))\n",
    "vol=4/3*3.14*r*r*r\n",
    "print(\"volume is:\",vol)"
   ]
  },
  {
   "cell_type": "code",
   "execution_count": 45,
   "id": "9ce453f6",
   "metadata": {},
   "outputs": [
    {
     "name": "stdout",
     "output_type": "stream",
     "text": [
      "enter radius:568\n",
      "volume is: 767208475.3066667\n"
     ]
    }
   ],
   "source": [
    "r=float(input('enter radius:'))\n",
    "vol=4/3*3.14*r*r*r\n",
    "print(\"volume is:\",vol)"
   ]
  },
  {
   "cell_type": "code",
   "execution_count": 46,
   "id": "d8ab4395",
   "metadata": {},
   "outputs": [
    {
     "name": "stdout",
     "output_type": "stream",
     "text": [
      "enter radius:859\n",
      "volume is: 2653675874.7466664\n"
     ]
    }
   ],
   "source": [
    "r=float(input('enter radius:'))\n",
    "vol=4/3*3.14*r*r*r\n",
    "print(\"volume is:\",vol)"
   ]
  },
  {
   "cell_type": "code",
   "execution_count": 47,
   "id": "13fa1131",
   "metadata": {},
   "outputs": [
    {
     "name": "stdout",
     "output_type": "stream",
     "text": [
      "enter x:564\n",
      "enter y:569\n",
      "(x-y)(x+y)= -5665\n"
     ]
    }
   ],
   "source": [
    "x=int(input('enter x:'))\n",
    "y=int(input('enter y:'))\n",
    "z=x*x-y*y\n",
    "print('(x-y)(x+y)=',z)"
   ]
  },
  {
   "cell_type": "code",
   "execution_count": 48,
   "id": "d8e1ca45",
   "metadata": {},
   "outputs": [
    {
     "name": "stdout",
     "output_type": "stream",
     "text": [
      "enter x:485\n",
      "enter y:48\n",
      "(x-y)(x+y)=x*x-y*y= 232921\n"
     ]
    }
   ],
   "source": [
    "x=int(input('enter x:'))\n",
    "y=int(input('enter y:'))\n",
    "z=x*x-y*y\n",
    "print('(x-y)(x+y)=x*x-y*y=',z)"
   ]
  },
  {
   "cell_type": "code",
   "execution_count": 1,
   "id": "287f2f17",
   "metadata": {},
   "outputs": [
    {
     "name": "stdout",
     "output_type": "stream",
     "text": [
      "enter x:45\n",
      "enter y:545\n",
      "(x+y)(x+y)=x*x-y*y= -295000\n"
     ]
    }
   ],
   "source": [
    "x=int(input('enter x:'))\n",
    "y=int(input('enter y:'))\n",
    "z=x*x-y*y\n",
    "print('(x+y)(x+y)=x*x-y*y=',z)"
   ]
  },
  {
   "cell_type": "code",
   "execution_count": 2,
   "id": "2dae751f",
   "metadata": {},
   "outputs": [
    {
     "name": "stdout",
     "output_type": "stream",
     "text": [
      "enter first name:SAMRADNI\n",
      "enter last name:DAHIPHALE\n",
      "full name is: SAMRADNI DAHIPHALE\n"
     ]
    }
   ],
   "source": [
    "a=input('enter first name:')\n",
    "b=input(\"enter last name:\")\n",
    "print('full name is:',a,b)"
   ]
  },
  {
   "cell_type": "code",
   "execution_count": 3,
   "id": "474681ae",
   "metadata": {},
   "outputs": [
    {
     "name": "stdout",
     "output_type": "stream",
     "text": [
      "name:SAM\n",
      "mob. no.:76889988899\n",
      "aadhar no.:86763892793\n",
      "city:BEED\n",
      "name is: SAM\n",
      "mob. no.is: 76889988899\n",
      "aadhar no. is: 86763892793\n",
      "city is: BEED\n"
     ]
    }
   ],
   "source": [
    "a=input('name:')\n",
    "b=input('mob. no.:')\n",
    "c=input('aadhar no.:')\n",
    "d=input(\"city:\")\n",
    "print('name is:',a)\n",
    "print('mob. no.is:',b)\n",
    "print('aadhar no. is:',c)\n",
    "print('city is:',d)"
   ]
  },
  {
   "cell_type": "code",
   "execution_count": 7,
   "id": "f3e55255",
   "metadata": {},
   "outputs": [
    {
     "name": "stdout",
     "output_type": "stream",
     "text": [
      "name:sai\n",
      "mob. no.:12345\n",
      "aadhar no.:123456\n",
      "city:shirdi\n",
      "Name is: sai mobile no. is: 12345 Adhar No. is: 123456 City is: shirdi\n"
     ]
    }
   ],
   "source": [
    "a=input('name:')\n",
    "b=input('mob. no.:')\n",
    "c=input('aadhar no.:')\n",
    "d=input(\"city:\")\n",
    "print(\"Name is:\",a,\"mobile no. is:\",b,\"Adhar No. is:\",c,\"City is:\",d)"
   ]
  },
  {
   "cell_type": "code",
   "execution_count": 1,
   "id": "09e57c50",
   "metadata": {},
   "outputs": [
    {
     "name": "stdout",
     "output_type": "stream",
     "text": [
      "enter weight of item 1:567\n",
      "enter no. of purchase:55\n",
      "enter weight of item 2:554\n",
      "enter no. of purchase:55\n",
      "enter weight of item 3:554\n",
      "enter no. of purchase:55\n",
      "enter weight of item 4:555\n",
      "enter no. of purchase:5555\n",
      "enter weight of item 5:56\n",
      "enter no. of purchase:56\n",
      "avg is: 635657.2\n"
     ]
    }
   ],
   "source": [
    "w1=float(input('enter weight of item 1:'))\n",
    "p1=float(input('enter no. of purchase:'))\n",
    "w2=float(input('enter weight of item 2:'))\n",
    "p2=float(input('enter no. of purchase:'))\n",
    "w3=float(input('enter weight of item 3:'))\n",
    "p3=float(input('enter no. of purchase:'))\n",
    "w4=float(input('enter weight of item 4:'))\n",
    "p4=float(input('enter no. of purchase:'))\n",
    "w5=float(input('enter weight of item 5:'))\n",
    "p5=float(input('enter no. of purchase:'))\n",
    "\n",
    "avg=(w1*p1+w2*p2+w3*p3\n",
    "     +w4*p4+w5*p5)/5\n",
    "print('avg is:',avg)\n"
   ]
  },
  {
   "cell_type": "code",
   "execution_count": 2,
   "id": "87269288",
   "metadata": {},
   "outputs": [
    {
     "name": "stdout",
     "output_type": "stream",
     "text": [
      "Employee id is:101\n",
      "enter work hours:23\n",
      "amount per hour:5\n",
      "salary is: 115\n"
     ]
    }
   ],
   "source": [
    "ID1=input('Employee id is:')\n",
    "h=input(\"enter work hours:\")\n",
    "a=input('amount per hour:')\n",
    "salary=int(h)*int(a)\n",
    "print('salary is:',salary)"
   ]
  },
  {
   "cell_type": "code",
   "execution_count": 3,
   "id": "8a0f59cb",
   "metadata": {},
   "outputs": [
    {
     "name": "stdout",
     "output_type": "stream",
     "text": [
      "Employee id is:101\n",
      "enter work hours:25\n",
      "amount per hour:6\n",
      "Employee id is:102\n",
      "enter work hours:53\n",
      "amount per hour:6\n",
      "Employee id is:103\n",
      "enter work hours:58\n",
      "amount per hour:6\n",
      "Employee id is:104\n",
      "enter work hours:56\n",
      "amount per hour:5\n",
      "avg salary is: 274.0\n"
     ]
    }
   ],
   "source": [
    "ID1=input('Employee id is:')\n",
    "h1=input(\"enter work hours:\")\n",
    "a1=input('amount per hour:')\n",
    "ID2=input('Employee id is:')\n",
    "h2=input(\"enter work hours:\")\n",
    "a2=input('amount per hour:')\n",
    "ID3=input('Employee id is:')\n",
    "h3=input(\"enter work hours:\")\n",
    "a3=input('amount per hour:')\n",
    "ID4=input('Employee id is:')\n",
    "h4=input(\"enter work hours:\")\n",
    "a4=input('amount per hour:')\n",
    "avg=((int(h1)*int(a1))+(int(h2)*int(a2))+(int(h3)*int(a3))+(int(h4)*int(a4)))/4\n",
    "print('avg salary is:',avg)"
   ]
  },
  {
   "cell_type": "code",
   "execution_count": 4,
   "id": "4014668d",
   "metadata": {},
   "outputs": [
    {
     "name": "stdout",
     "output_type": "stream",
     "text": [
      "enter distance travelled:5654\n",
      "fuel spent:565\n",
      "average consumption is: 10.007079646017699\n"
     ]
    }
   ],
   "source": [
    "d=float(input('enter distance travelled:'))\n",
    "f=float(input(\"fuel spent:\"))\n",
    "avg=d/f\n",
    "print(\"average consumption is:\",avg)"
   ]
  },
  {
   "cell_type": "code",
   "execution_count": 5,
   "id": "58d0521b",
   "metadata": {},
   "outputs": [
    {
     "name": "stdout",
     "output_type": "stream",
     "text": [
      "enter the amount:565566\n",
      "possible bank notes of 100 are: 5655.66\n",
      "possible bank notes of 50 are: 11311.32\n",
      "possible bank notes of 20 are: 28278.3\n",
      "possible bank notes of 10 are: 56556.6\n",
      "possible bank notes of 2 are: 282783.0\n",
      "possible bank notes of 1 are: 565566.0\n"
     ]
    }
   ],
   "source": [
    "a=int(input('enter the amount:'))\n",
    "p100=a/100\n",
    "p50=a/50\n",
    "p20=a/20\n",
    "p10=a/10\n",
    "p5=a/5\n",
    "p2=a/2\n",
    "p1=a/1\n",
    "print('possible bank notes of 100 are:',p100)\n",
    "print('possible bank notes of 50 are:',p50)\n",
    "print('possible bank notes of 20 are:',p20)\n",
    "print('possible bank notes of 10 are:',p10)\n",
    "print('possible bank notes of 2 are:',p2)\n",
    "print('possible bank notes of 1 are:',p1)"
   ]
  },
  {
   "cell_type": "code",
   "execution_count": 6,
   "id": "2b8b314d",
   "metadata": {},
   "outputs": [
    {
     "name": "stdout",
     "output_type": "stream",
     "text": [
      "enter even seconds:6599\n",
      "sec to hr is: 1.8330555555555557\n",
      "sec to min is: 109.98333333333333\n",
      "sec to sec is: 6599.0\n"
     ]
    }
   ],
   "source": [
    "a=int(input('enter even seconds:'))\n",
    "h=a/3600\n",
    "print('sec to hr is:',h)\n",
    "m=a/60\n",
    "print('sec to min is:',m)\n",
    "s=a/1\n",
    "print('sec to sec is:',s)"
   ]
  },
  {
   "cell_type": "code",
   "execution_count": 7,
   "id": "5be94dc3",
   "metadata": {},
   "outputs": [
    {
     "name": "stdout",
     "output_type": "stream",
     "text": [
      "Enter the no. a:56\n",
      "Enter the no. b:5655\n",
      "The numbers are: 56 5655\n",
      "The numbers are not equal\n"
     ]
    }
   ],
   "source": [
    "a=int(input('Enter the no. a:'))\n",
    "b=int(input('Enter the no. b:'))\n",
    "print('The numbers are:',a,b)\n",
    "if(a==b):\n",
    "    print('The numbers are equal')\n",
    "else:\n",
    "    print('The numbers are not equal')"
   ]
  },
  {
   "cell_type": "code",
   "execution_count": 8,
   "id": "d4c13cb2",
   "metadata": {},
   "outputs": [
    {
     "name": "stdout",
     "output_type": "stream",
     "text": [
      "Enter the no. a:56\n",
      "Enter the no. b:56\n",
      "The numbers are: 56 56\n",
      "The numbers are equal\n"
     ]
    }
   ],
   "source": [
    "a=int(input('Enter the no. a:'))\n",
    "b=int(input('Enter the no. b:'))\n",
    "print('The numbers are:',a,b)\n",
    "if(a==b):\n",
    "    print('The numbers are equal')\n",
    "else:\n",
    "    print('The numbers are not equal')"
   ]
  },
  {
   "cell_type": "code",
   "execution_count": 9,
   "id": "e7b6db7b",
   "metadata": {},
   "outputs": [
    {
     "name": "stdout",
     "output_type": "stream",
     "text": [
      "Enter the 3 digit number:565\n",
      "The reversed number is: 5 6 5\n"
     ]
    }
   ],
   "source": [
    "x=int(input('Enter the 3 digit number:' ))\n",
    "rev1=x%10\n",
    "x=x//10\n",
    "rev2=x%10\n",
    "x=x//10\n",
    "rev3=x\n",
    "print('The reversed number is:',rev1,rev2,rev3)\n"
   ]
  },
  {
   "cell_type": "code",
   "execution_count": 10,
   "id": "0191849f",
   "metadata": {},
   "outputs": [
    {
     "name": "stdout",
     "output_type": "stream",
     "text": [
      "Enter the 5 digit number:45689\n",
      "The reversed number is: 9 8 6 5 4\n"
     ]
    }
   ],
   "source": [
    "x=int(input('Enter the 5 digit number:' ))\n",
    "rev1=x%10\n",
    "x=x//10\n",
    "rev2=x%10\n",
    "x=x//10\n",
    "rev3=x%10\n",
    "x=x//10\n",
    "rev4=x%10\n",
    "x=x//10\n",
    "rev5=x\n",
    "print('The reversed number is:',rev1,rev2,rev3,rev4,rev5)\n"
   ]
  },
  {
   "cell_type": "code",
   "execution_count": 11,
   "id": "90628d52",
   "metadata": {},
   "outputs": [
    {
     "name": "stdout",
     "output_type": "stream",
     "text": [
      "Enter the 3 digit number:568\n",
      "The reversed number is: 5 6 8\n"
     ]
    }
   ],
   "source": [
    "x=int(input('Enter the 3 digit number:' ))\n",
    "rev1=x%10\n",
    "x=x//10\n",
    "rev2=x%10\n",
    "x=x//10\n",
    "rev3=x\n",
    "print('The reversed number is:',rev3,rev2,rev1)\n"
   ]
  },
  {
   "cell_type": "code",
   "execution_count": 12,
   "id": "9ab16c0b",
   "metadata": {},
   "outputs": [
    {
     "name": "stdout",
     "output_type": "stream",
     "text": [
      "Enter the 3 digit number:565\n",
      "The number addition is: 16\n"
     ]
    }
   ],
   "source": [
    "x=int(input('Enter the 3 digit number:' ))\n",
    "a=x%10\n",
    "x=x//10\n",
    "b=x%10\n",
    "x=x//10\n",
    "c=x\n",
    "print('The number addition is:',a+b+c)\n"
   ]
  },
  {
   "cell_type": "code",
   "execution_count": 13,
   "id": "87532f49",
   "metadata": {},
   "outputs": [
    {
     "name": "stdout",
     "output_type": "stream",
     "text": [
      "Enter the 5 digit number:56984\n",
      "The number addition is: 32\n"
     ]
    }
   ],
   "source": [
    "x=int(input('Enter the 5 digit number:' ))\n",
    "a=x%10\n",
    "x=x//10\n",
    "b=x%10\n",
    "x=x//10\n",
    "c=x%10\n",
    "x=x//10\n",
    "d=x%10\n",
    "x=x//10\n",
    "e=x\n",
    "print('The number addition is:',a+b+c+d+e)\n"
   ]
  },
  {
   "cell_type": "code",
   "execution_count": 14,
   "id": "b1587adf",
   "metadata": {},
   "outputs": [
    {
     "name": "stdout",
     "output_type": "stream",
     "text": [
      "Enter the 3 digit number:456\n",
      "The number multiplication is: 120\n"
     ]
    }
   ],
   "source": [
    "x=int(input('Enter the 3 digit number:' ))\n",
    "a=x%10\n",
    "x=x//10\n",
    "b=x%10\n",
    "x=x//10\n",
    "c=x\n",
    "print('The number multiplication is:',a*b*c)"
   ]
  },
  {
   "cell_type": "code",
   "execution_count": 15,
   "id": "4b89d942",
   "metadata": {},
   "outputs": [
    {
     "name": "stdout",
     "output_type": "stream",
     "text": [
      "Enter the 3 digit number:568\n",
      "The number division is: 0.26666666666666666\n"
     ]
    }
   ],
   "source": [
    "x=int(input('Enter the 3 digit number:' ))\n",
    "a=x%10\n",
    "x=x//10\n",
    "b=x%10\n",
    "x=x//10\n",
    "c=x\n",
    "print('The number division is:',a/b/c)"
   ]
  },
  {
   "cell_type": "code",
   "execution_count": 16,
   "id": "4aaba815",
   "metadata": {},
   "outputs": [
    {
     "name": "stdout",
     "output_type": "stream",
     "text": [
      "Enter the 3 digit number:569\n",
      "The number division is: 0.0925925925925926\n"
     ]
    }
   ],
   "source": [
    "x=int(input('Enter the 3 digit number:' ))\n",
    "a=x%10\n",
    "x=x//10\n",
    "b=x%10\n",
    "x=x//10\n",
    "c=x\n",
    "print('The number division is:',c/b/a)"
   ]
  },
  {
   "cell_type": "code",
   "execution_count": 17,
   "id": "8c1671e0",
   "metadata": {},
   "outputs": [
    {
     "name": "stdout",
     "output_type": "stream",
     "text": [
      "Enter the 3 digit number:458\n",
      "The number subtraction is: -1\n"
     ]
    }
   ],
   "source": [
    "x=int(input('Enter the 3 digit number:' ))\n",
    "a=x%10\n",
    "x=x//10\n",
    "b=x%10\n",
    "x=x//10\n",
    "c=x\n",
    "print('The number subtraction is:',a-b-c)"
   ]
  },
  {
   "cell_type": "code",
   "execution_count": 18,
   "id": "16f00227",
   "metadata": {},
   "outputs": [
    {
     "name": "stdout",
     "output_type": "stream",
     "text": [
      "Enter the 3 digit number:589\n",
      "The number subtraction is: -4\n"
     ]
    }
   ],
   "source": [
    "x=int(input('Enter the 3 digit number:' ))\n",
    "a=x%10\n",
    "x=x//10\n",
    "b=x%10\n",
    "x=x//10\n",
    "c=x\n",
    "print('The number subtraction is:',a-b-c)"
   ]
  },
  {
   "cell_type": "code",
   "execution_count": 19,
   "id": "15c7ee4c",
   "metadata": {},
   "outputs": [
    {
     "name": "stdout",
     "output_type": "stream",
     "text": [
      "Enter the 3 digit number:458\n",
      "The number subtraction is: -9\n"
     ]
    }
   ],
   "source": [
    "x=int(input('Enter the 3 digit number:' ))\n",
    "a=x%10\n",
    "x=x//10\n",
    "b=x%10\n",
    "x=x//10\n",
    "c=x\n",
    "print('The number subtraction is:',c-b-a)"
   ]
  },
  {
   "cell_type": "code",
   "execution_count": 20,
   "id": "18ca0e81",
   "metadata": {},
   "outputs": [
    {
     "name": "stdout",
     "output_type": "stream",
     "text": [
      "Total students in class: 45\n",
      "The number of boys getting A grade: 17\n",
      "The % of passing in class is 80% \n",
      "\n",
      "the no. of girls getting A grade: 19.0\n"
     ]
    }
   ],
   "source": [
    "a=45\n",
    "b=17\n",
    "c=80/100\n",
    "d=(a*c)-b\n",
    "print('Total students in class:',a)\n",
    "print('The number of boys getting A grade:',b)\n",
    "print('The % of passing in class is 80% \\n')\n",
    "print('the no. of girls getting A grade:',d)"
   ]
  },
  {
   "cell_type": "code",
   "execution_count": 22,
   "id": "7e5c0732",
   "metadata": {},
   "outputs": [
    {
     "name": "stdout",
     "output_type": "stream",
     "text": [
      "Total students in class: 85\n",
      "The number of boys getting A grade: 42\n",
      "The % of passing in class is 80% \n",
      "\n",
      "the no. of girls getting A grade: 26.0\n"
     ]
    }
   ],
   "source": [
    "a=85\n",
    "b=42\n",
    "c=80/100\n",
    "d=(a*c)-b\n",
    "print(\"Total students in class:\",a)\n",
    "print(\"The number of boys getting A grade:\",b)\n",
    "print(\"The % of passing in class is 80% \\n\")\n",
    "print(\"the no. of girls getting A grade:\",d)"
   ]
  },
  {
   "cell_type": "code",
   "execution_count": 23,
   "id": "537bdc4c",
   "metadata": {},
   "outputs": [
    {
     "name": "stdout",
     "output_type": "stream",
     "text": [
      "Enter a variable:45\n",
      "Enter another variable:56\n",
      "The swapped no. are: 56 45\n"
     ]
    }
   ],
   "source": [
    "x=int(input('Enter a variable:'))\n",
    "y=int(input('Enter another variable:'))\n",
    "z=x\n",
    "x=y\n",
    "y=z\n",
    "print('The swapped no. are:',x,y)"
   ]
  },
  {
   "cell_type": "code",
   "execution_count": 24,
   "id": "e08fcf2d",
   "metadata": {},
   "outputs": [
    {
     "name": "stdout",
     "output_type": "stream",
     "text": [
      "Enter a:568\n",
      "Enter b:56545\n",
      "The swapped no. are: 56545 568\n"
     ]
    }
   ],
   "source": [
    "x=int(input('Enter a:'))\n",
    "y=int(input('Enter b:'))\n",
    "z=x\n",
    "x=y\n",
    "y=z\n",
    "print('The swapped no. are:',x,y)"
   ]
  },
  {
   "cell_type": "code",
   "execution_count": 25,
   "id": "e92f5c00",
   "metadata": {},
   "outputs": [
    {
     "name": "stdout",
     "output_type": "stream",
     "text": [
      "Enter a:5665\n",
      "Enter b:56454\n",
      "The no. are: 5665 56454\n",
      "The swapped no. are: 56454 5665\n"
     ]
    }
   ],
   "source": [
    "x=int(input('Enter a:'))\n",
    "y=int(input('Enter b:'))\n",
    "print('The no. are:',x,y)\n",
    "z=x\n",
    "x=y\n",
    "y=z\n",
    "print('The swapped no. are:',x,y)"
   ]
  },
  {
   "cell_type": "code",
   "execution_count": null,
   "id": "43eab183",
   "metadata": {},
   "outputs": [],
   "source": []
  },
  {
   "cell_type": "code",
   "execution_count": null,
   "id": "5cc19384",
   "metadata": {},
   "outputs": [],
   "source": []
  },
  {
   "cell_type": "code",
   "execution_count": null,
   "id": "a7d7defa",
   "metadata": {},
   "outputs": [],
   "source": []
  },
  {
   "cell_type": "code",
   "execution_count": null,
   "id": "b8b3a149",
   "metadata": {},
   "outputs": [],
   "source": []
  },
  {
   "cell_type": "code",
   "execution_count": null,
   "id": "8073944c",
   "metadata": {},
   "outputs": [],
   "source": []
  },
  {
   "cell_type": "code",
   "execution_count": null,
   "id": "0f9b9bb5",
   "metadata": {},
   "outputs": [],
   "source": []
  },
  {
   "cell_type": "code",
   "execution_count": null,
   "id": "c4428d56",
   "metadata": {},
   "outputs": [],
   "source": []
  },
  {
   "cell_type": "code",
   "execution_count": null,
   "id": "8ba22247",
   "metadata": {},
   "outputs": [],
   "source": []
  },
  {
   "cell_type": "code",
   "execution_count": null,
   "id": "0afaea3c",
   "metadata": {},
   "outputs": [],
   "source": []
  },
  {
   "cell_type": "code",
   "execution_count": null,
   "id": "ebb820e6",
   "metadata": {},
   "outputs": [],
   "source": []
  }
 ],
 "metadata": {
  "kernelspec": {
   "display_name": "Python 3 (ipykernel)",
   "language": "python",
   "name": "python3"
  },
  "language_info": {
   "codemirror_mode": {
    "name": "ipython",
    "version": 3
   },
   "file_extension": ".py",
   "mimetype": "text/x-python",
   "name": "python",
   "nbconvert_exporter": "python",
   "pygments_lexer": "ipython3",
   "version": "3.11.5"
  }
 },
 "nbformat": 4,
 "nbformat_minor": 5
}
